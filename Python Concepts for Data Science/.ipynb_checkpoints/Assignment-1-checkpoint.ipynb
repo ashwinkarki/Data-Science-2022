{
 "cells": [
  {
   "cell_type": "markdown",
   "metadata": {},
   "source": [
    "*args and **kwargs"
   ]
  },
  {
   "cell_type": "code",
   "execution_count": 1,
   "metadata": {},
   "outputs": [
    {
     "name": "stdout",
     "output_type": "stream",
     "text": [
      "My\n",
      "Name\n",
      "is\n",
      "Ashwin\n"
     ]
    }
   ],
   "source": [
    "# *args\n",
    "def myFunc(*args):\n",
    "    for i in args:\n",
    "        print(i)\n",
    "        \n",
    "myFunc('My','Name','is','Ashwin')        "
   ]
  },
  {
   "cell_type": "code",
   "execution_count": 2,
   "metadata": {},
   "outputs": [
    {
     "name": "stdout",
     "output_type": "stream",
     "text": [
      "First arg is My\n",
      "Name\n",
      "is\n",
      "Ashwin\n"
     ]
    }
   ],
   "source": [
    "# *args\n",
    "def myFunc(arg1,*args):\n",
    "    print('First arg is', arg1)\n",
    "    for i in args:\n",
    "        print(i)\n",
    "        \n",
    "myFunc('My','Name','is','Ashwin')   "
   ]
  },
  {
   "cell_type": "code",
   "execution_count": 3,
   "metadata": {},
   "outputs": [
    {
     "name": "stdout",
     "output_type": "stream",
     "text": [
      "first == Ashwin\n",
      "mid == Karki\n",
      "last == Nepal\n"
     ]
    }
   ],
   "source": [
    "# *Kwargs\n",
    "def mykwargs(**kwargs):\n",
    "    for key, value in kwargs.items():\n",
    "        print(\"%s == %s\" % (key, value))\n",
    " \n",
    " \n",
    "# Driver code\n",
    "mykwargs(first='Ashwin', mid='Karki', last='Nepal')"
   ]
  },
  {
   "cell_type": "code",
   "execution_count": 4,
   "metadata": {},
   "outputs": [
    {
     "name": "stdout",
     "output_type": "stream",
     "text": [
      "args:  ('hello', 'from', 'nepal')\n",
      "kwargs:  {'first': 'Apple', 'mid': 'Mango', 'last': 'Banana'}\n"
     ]
    }
   ],
   "source": [
    "def usingBoth(*args, **kwargs):\n",
    "    print(\"args: \", args)\n",
    "    print(\"kwargs: \", kwargs)\n",
    "\n",
    "usingBoth('hello', 'from', 'nepal', first=\"Apple\", mid=\"Mango\", last=\"Banana\")"
   ]
  },
  {
   "cell_type": "code",
   "execution_count": null,
   "metadata": {},
   "outputs": [],
   "source": []
  }
 ],
 "metadata": {
  "kernelspec": {
   "display_name": "Python 3",
   "language": "python",
   "name": "python3"
  },
  "language_info": {
   "codemirror_mode": {
    "name": "ipython",
    "version": 3
   },
   "file_extension": ".py",
   "mimetype": "text/x-python",
   "name": "python",
   "nbconvert_exporter": "python",
   "pygments_lexer": "ipython3",
   "version": "3.8.2"
  }
 },
 "nbformat": 4,
 "nbformat_minor": 4
}
