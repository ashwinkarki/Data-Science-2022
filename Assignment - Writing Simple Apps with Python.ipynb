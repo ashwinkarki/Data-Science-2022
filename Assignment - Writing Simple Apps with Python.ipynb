{
 "cells": [
  {
   "cell_type": "markdown",
   "metadata": {},
   "source": [
    "1. Count character occurrences in a given word, phrase or sentence."
   ]
  },
  {
   "cell_type": "code",
   "execution_count": 1,
   "metadata": {},
   "outputs": [
    {
     "name": "stdout",
     "output_type": "stream",
     "text": [
      "Counter({' ': 4, 'i': 3, 'n': 2, 'a': 2, 's': 2, 'M': 1, 'y': 1, 'm': 1, 'e': 1, 'A': 1, 'h': 1, 'w': 1, 'K': 1, 'r': 1, 'k': 1})\n"
     ]
    }
   ],
   "source": [
    "from collections import Counter\n",
    "a_string='My name is Ashwin Karki'\n",
    "collection = Counter(a_string)\n",
    "print(collection)"
   ]
  },
  {
   "cell_type": "markdown",
   "metadata": {},
   "source": [
    "2. Count the occurence of consecutive 1's in the list"
   ]
  },
  {
   "cell_type": "code",
   "execution_count": 2,
   "metadata": {},
   "outputs": [
    {
     "name": "stdout",
     "output_type": "stream",
     "text": [
      "3\n"
     ]
    }
   ],
   "source": [
    "numlist=[1,1,0,1,0,1,1,1]\n",
    "\n",
    "counter=0\n",
    "prev=0\n",
    "for i in range(len(numlist)):\n",
    "    if(prev==1 and numlist[i]==1):\n",
    "        counter=counter+1\n",
    "    prev=numlist[i]\n",
    "\n",
    "print(counter)    \n"
   ]
  },
  {
   "cell_type": "code",
   "execution_count": null,
   "metadata": {},
   "outputs": [],
   "source": []
  }
 ],
 "metadata": {
  "kernelspec": {
   "display_name": "Python 3",
   "language": "python",
   "name": "python3"
  },
  "language_info": {
   "codemirror_mode": {
    "name": "ipython",
    "version": 3
   },
   "file_extension": ".py",
   "mimetype": "text/x-python",
   "name": "python",
   "nbconvert_exporter": "python",
   "pygments_lexer": "ipython3",
   "version": "3.8.2"
  }
 },
 "nbformat": 4,
 "nbformat_minor": 4
}
